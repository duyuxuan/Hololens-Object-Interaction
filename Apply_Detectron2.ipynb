{
 "cells": [
  {
   "cell_type": "code",
   "execution_count": 6,
   "metadata": {},
   "outputs": [
    {
     "data": {
      "text/plain": [
       "[636, 361, 387, 388, 497, 325, 581, 327, 624, 359, 626, 458]"
      ]
     },
     "execution_count": 6,
     "metadata": {},
     "output_type": "execute_result"
    }
   ],
   "source": [
    "import numpy as np\n",
    "import cv2\n",
    "import math\n",
    "from matplotlib import pyplot as plt\n",
    "\n",
    "#point = [0.0166959,-0.03241478,0.454423]\n",
    "focal_l = 1300\n",
    "center_x = 1280/2\n",
    "center_y = 720/2\n",
    "\n",
    "def coord_converter(str):\n",
    "    j=0\n",
    "    converted_str = []\n",
    "    for i in range(0,11):                  #3 coordinate per occhi + 3*5*2 coordinate per  dita\n",
    "        point=[str[i+j], str[i+j+1], str[i+j+2]]\n",
    "        if(point[0]==-1 or point[1]==-1 or point[2]==-1):\n",
    "            continue                       #se un punto è uguale a -1, allora lo skippo\n",
    "\n",
    "        x = focal_l * ((1.52048 * point[0]) / point[2]) \n",
    "        y = focal_l * ((1.52048 * point[1]) / point[2])\n",
    "        x += 1280 / 2\n",
    "        y = (720 / 2) - y\n",
    "\n",
    "        x2 = (int)(x-np.sign(x-center_x)*math.sqrt(abs(x-center_x)*16))\n",
    "        y2 = (int)(y-np.sign(y-center_y)*math.sqrt(abs(y-center_y)*9))\n",
    "        converted_str.append(x2)\n",
    "        converted_str.append(y2)\n",
    "        j+=2\n",
    "    return converted_str\n",
    "\n",
    "\n",
    "str = [0.0007108087,0.002638072,0.9995709,-0.0731052,-0.0112025,0.445167,-0.05001128,0.01443008,0.4964906,-0.02534806,0.01395522,0.5083399,-0.01035325,-0.002214342,0.4971711,-0.009090297,-0.03203313,0.4774835,-1,-1,-1,-1,-1,-1,-1,-1,-1,-1,-1,-1,-1,-1,-1]\n",
    "coord_converter(str)\n",
    "#str = [-0.06526008,-0.06002786,0.4534827,0.005514124,0.01895514,0.459419,0.05229446,0.02481614,0.4624476,0.08688483,0.002739333,0.4564206,0.1134086,-0.04526987,0.4413474]\n",
    "#coord_converter(str)\n",
    "#img = cv2.imread(\"C:/Users/marco/Desktop/Tesi/sock_receive/1627313882994.png\")\n",
    "#str = [-0.06526008,-0.06002786,0.4534827,0.005514124,0.01895514,0.459419,0.05229446,0.02481614,0.4624476,0.08688483,0.002739333,0.4564206,0.1134086,-0.04526987,0.4413474]\n",
    "#j=0\n",
    "#for i in range(0,5):                  #3 coordinate per 5 dita\n",
    "#    point=[str[i+j], str[i+j+1], str[i+j+2]]\n",
    "    \n",
    "#    x = focal_l * ((1.52048 * point[0]) / point[2]) \n",
    "#    y = focal_l * ((1.52048 * point[1]) / point[2])\n",
    "#    x += (1280 / 2) * rescale_factor\n",
    "#    y = ((720 / 2) - y) * rescale_factor\n",
    "    \n",
    "#    x2 = (x-np.sign(x-center_x)*math.sqrt(abs(x-center_x)*16))\n",
    "#    y2 = (y-np.sign(y-center_y)*math.sqrt(abs(y-center_y)*9))\n",
    "#    print(x2, y2)\n",
    "#    cv2.circle(img,(int(x2),int(y2)), 6, (0,255,255), -1)\n",
    "#    j+=2\n",
    "\n",
    "\n",
    "#x2 = (x-np.sign(x-center_x)*math.sqrt(abs(x-center_x)*16))\n",
    "#y2 = (y-np.sign(y-center_y)*math.sqrt(abs(y-center_y)*9))\n",
    "#print(x, x2)\n",
    "#cv2.circle(img,(int(x),int(y)), 6, (0,0,255), -1)\n",
    "#cv2.circle(img,(int(x2),int(y2)), 6, (0,255,255), -1)\n",
    "\n",
    "#Show the image with matplotlib\n",
    "#plt.imshow(img)\n",
    "#plt.show() "
   ]
  },
  {
   "cell_type": "code",
   "execution_count": 20,
   "metadata": {},
   "outputs": [
    {
     "name": "stdout",
     "output_type": "stream",
     "text": [
      "yes\n"
     ]
    }
   ],
   "source": [
    "str = [0.0007108087,0.002638072,0.9995709,-0.0731052,-0.0112025,0.445167,-0.05001128,0.01443008,0.4964906,-0.02534806,0.01395522,0.5083399,-0.01035325,-0.002214342,0.4971711,-0.009090297,-0.03203313,0.4774835,-1,-1,-1,-1,-1,-1,-1,-1,-1,-1,-1,-1,-1,-1,-1]\n",
    "str2 = [1627912362352,0.0002831295,-0.002333671,0.9993604,-1,-1,-1,-1,-1,-1,-1,-1,-1,-1,-1,-1,-1,-1,-1,-1,-1,-1,-1,-1,-1,-1,-1,-1,-1,-1,-1,-1,-1,-1,]\n",
    "\n",
    "if(all(element == -1 for element in str2[4:])):\n",
    "    print(\"yes\")\n"
   ]
  },
  {
   "cell_type": "code",
   "execution_count": null,
   "metadata": {},
   "outputs": [],
   "source": []
  }
 ],
 "metadata": {
  "kernelspec": {
   "display_name": "Python 3",
   "language": "python",
   "name": "python3"
  },
  "language_info": {
   "codemirror_mode": {
    "name": "ipython",
    "version": 3
   },
   "file_extension": ".py",
   "mimetype": "text/x-python",
   "name": "python",
   "nbconvert_exporter": "python",
   "pygments_lexer": "ipython3",
   "version": "3.8.3"
  }
 },
 "nbformat": 4,
 "nbformat_minor": 4
}
